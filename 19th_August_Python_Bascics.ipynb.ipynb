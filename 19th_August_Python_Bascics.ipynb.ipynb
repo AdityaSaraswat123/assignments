{
 "cells": [
  {
   "cell_type": "code",
   "execution_count": 8,
   "id": "4a30671f-9e13-47d2-bb59-ae501305ed95",
   "metadata": {},
   "outputs": [
    {
     "name": "stdout",
     "output_type": "stream",
     "text": [
      "the swapped value of x is 300\n",
      "the swapped value of y is 200\n"
     ]
    }
   ],
   "source": [
    "#TOPIC -PYHTON VARIABLE\n",
    "#1.\n",
    "x,y=200,300 #declared x and y using multiple assignment \n",
    "x,y=y,x     #swapping the values of x and y without using temp variable \n",
    "print(\"the swapped value of x is\",x)\n",
    "print(\"the swapped value of y is\",y)\n"
   ]
  },
  {
   "cell_type": "code",
   "execution_count": 7,
   "id": "e360056d-fbc1-4016-b0be-9455ca61a26b",
   "metadata": {},
   "outputs": [
    {
     "name": "stdin",
     "output_type": "stream",
     "text": [
      "enter the length of the rectangle 20\n",
      "enter the breadth of the rectangle 23\n"
     ]
    },
    {
     "name": "stdout",
     "output_type": "stream",
     "text": [
      "the area is  460\n"
     ]
    }
   ],
   "source": [
    "#2.\n",
    "#calculating the area of rectangle \n",
    "a=int(input(\"enter the length of the rectangle\"))\n",
    "b=int(input(\"enter the breadth of the rectangle\"))\n",
    "#area = length * breadth \n",
    "area=a*b\n",
    "print(\"the area is \",area)"
   ]
  },
  {
   "cell_type": "code",
   "execution_count": 10,
   "id": "5b964e3d-b52c-4186-9eca-95f54f013753",
   "metadata": {},
   "outputs": [
    {
     "name": "stdin",
     "output_type": "stream",
     "text": [
      "enter the temprature in celsius 23\n"
     ]
    },
    {
     "name": "stdout",
     "output_type": "stream",
     "text": [
      "the temprature in fahrenheit is  73.4\n"
     ]
    }
   ],
   "source": [
    "#3.\n",
    "#converting temperature from Celsius to Fahrenheit.\n",
    "celsius=int(input(\"enter the temprature in celsius\"))#taking input in celsius\n",
    "fahrenheit=(celsius*9/5)+32 #formula to convert temprature from celsius to fahrenheit\n",
    "print(\"the temprature in fahrenheit is \",fahrenheit)\n",
    "                  "
   ]
  },
  {
   "cell_type": "code",
   "execution_count": 11,
   "id": "bc5e41d8-9baa-4ec7-9124-0ebf13e22e47",
   "metadata": {},
   "outputs": [
    {
     "name": "stdin",
     "output_type": "stream",
     "text": [
      "enter the string adithya\n"
     ]
    },
    {
     "name": "stdout",
     "output_type": "stream",
     "text": [
      "the length of string is  7\n"
     ]
    }
   ],
   "source": [
    "#TOPIC - STRING \n",
    "#1.Input a string and print its length \n",
    "string=input(\"enter the string\") # taking input\n",
    "print(\"the length of string is \",len(string)) # applying function and printing\n"
   ]
  },
  {
   "cell_type": "code",
   "execution_count": 5,
   "id": "b6691f14-b9a4-4921-971c-c15d869a427f",
   "metadata": {},
   "outputs": [
    {
     "name": "stdin",
     "output_type": "stream",
     "text": [
      "enter the string stttt\n"
     ]
    },
    {
     "name": "stdout",
     "output_type": "stream",
     "text": [
      "vowels count is 0\n"
     ]
    }
   ],
   "source": [
    "#2.counting no of vowels in the string \n",
    "sentence=input(\"enter the string\") # taking input\n",
    "count=0\n",
    "sentence =sentence.lower()\n",
    "vowels=sum(1 for i in sentence if i in 'aeiou')# this is used to count the no of vowels in the sentence\n",
    "print(\"vowels count is\",vowels)    \n"
   ]
  },
  {
   "cell_type": "code",
   "execution_count": 6,
   "id": "17023ae8-0abf-40c6-9d5d-d3f5da64d40a",
   "metadata": {},
   "outputs": [
    {
     "name": "stdin",
     "output_type": "stream",
     "text": [
      "enter the string aditya\n"
     ]
    },
    {
     "name": "stdout",
     "output_type": "stream",
     "text": [
      "aytida\n"
     ]
    }
   ],
   "source": [
    "#3 reversing a string\n",
    "sent=input(\"enter the string\")\n",
    "reversed_string=sent[::-1]\n",
    "print(reversed_string)"
   ]
  },
  {
   "cell_type": "code",
   "execution_count": 8,
   "id": "d18cef2f-a816-44a1-8836-51ad22e5a568",
   "metadata": {},
   "outputs": [
    {
     "name": "stdin",
     "output_type": "stream",
     "text": [
      "enter the string rmamr\n"
     ]
    },
    {
     "name": "stdout",
     "output_type": "stream",
     "text": [
      "it is a palindrome\n"
     ]
    }
   ],
   "source": [
    "#4 checking palindrome\n",
    "sent=input(\"enter the string\")\n",
    "reversed_string=sent[::-1]\n",
    "if sent==reversed_string:\n",
    "    print(\"it is a palindrome\")\n",
    "else:\n",
    "    print(\"it is not a palindrome\")\n",
    "    "
   ]
  },
  {
   "cell_type": "code",
   "execution_count": 10,
   "id": "b0df5b01-48a5-48fe-8827-69c7c30bfff3",
   "metadata": {},
   "outputs": [
    {
     "name": "stdin",
     "output_type": "stream",
     "text": [
      "enter the string aditya is a good boy\n"
     ]
    },
    {
     "name": "stdout",
     "output_type": "stream",
     "text": [
      "adityaisagoodboy\n"
     ]
    }
   ],
   "source": [
    "#5 Takes a input as string and removes the spaces from the string \n",
    "sent=input(\"enter the string\")\n",
    "sent=sent.replace(\" \",\"\")\n",
    "print(sent)"
   ]
  },
  {
   "cell_type": "code",
   "execution_count": null,
   "id": "daf669c7-fa91-41df-9f72-c77e7ec3b6d2",
   "metadata": {},
   "outputs": [],
   "source": []
  }
 ],
 "metadata": {
  "kernelspec": {
   "display_name": "Python 3 (ipykernel)",
   "language": "python",
   "name": "python3"
  },
  "language_info": {
   "codemirror_mode": {
    "name": "ipython",
    "version": 3
   },
   "file_extension": ".py",
   "mimetype": "text/x-python",
   "name": "python",
   "nbconvert_exporter": "python",
   "pygments_lexer": "ipython3",
   "version": "3.10.8"
  }
 },
 "nbformat": 4,
 "nbformat_minor": 5
}
